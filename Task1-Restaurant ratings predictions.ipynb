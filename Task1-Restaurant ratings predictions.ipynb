{
 "cells": [
  {
   "cell_type": "code",
   "execution_count": 1,
   "id": "f69e5adc-42b0-440b-975f-bed0b4e95a14",
   "metadata": {},
   "outputs": [
    {
     "name": "stdout",
     "output_type": "stream",
     "text": [
      "All ML libraries loaded successfully!\n"
     ]
    }
   ],
   "source": [
    "import numpy as np\n",
    "import pandas as pd\n",
    "import matplotlib.pyplot as plt\n",
    "import seaborn as sns\n",
    "from sklearn.linear_model import LinearRegression\n",
    "\n",
    "print(\"All ML libraries loaded successfully!\")"
   ]
  },
  {
   "cell_type": "code",
   "execution_count": 2,
   "id": "64fb9dbb-c88f-4698-a969-720863cbf1ff",
   "metadata": {},
   "outputs": [],
   "source": [
    "import pandas as pd"
   ]
  },
  {
   "cell_type": "code",
   "execution_count": 3,
   "id": "6e627aa0-8197-481c-b4b1-c96f8f4f8574",
   "metadata": {},
   "outputs": [
    {
     "data": {
      "text/plain": [
       "'C:\\\\Users\\\\lenovo'"
      ]
     },
     "execution_count": 3,
     "metadata": {},
     "output_type": "execute_result"
    }
   ],
   "source": [
    "import os\n",
    "os.getcwd()"
   ]
  },
  {
   "cell_type": "code",
   "execution_count": 4,
   "id": "f0a44c1e-6370-4cfd-bd45-2fa0da036226",
   "metadata": {},
   "outputs": [
    {
     "data": {
      "text/plain": [
       "['.android',\n",
       " '.cache',\n",
       " '.cargo',\n",
       " '.eclipse',\n",
       " '.git',\n",
       " '.git-for-windows-updater',\n",
       " '.idlerc',\n",
       " '.ipynb_checkpoints',\n",
       " '.ipython',\n",
       " '.jupyter',\n",
       " '.matplotlib',\n",
       " '.ms-ad',\n",
       " '.nbi',\n",
       " '.node_repl_history',\n",
       " '.p2',\n",
       " '.rustup',\n",
       " '.vscode',\n",
       " '3D Objects',\n",
       " 'AppData',\n",
       " 'Application Data',\n",
       " 'Contacts',\n",
       " 'Cookies',\n",
       " 'Dataset .csv',\n",
       " 'Desktop',\n",
       " 'dhaksha.ipynb',\n",
       " 'Documents',\n",
       " 'Downloads',\n",
       " 'eclipse',\n",
       " 'eclipse-workspace',\n",
       " 'Favorites',\n",
       " 'hi.ipynb',\n",
       " 'IntelGraphicsProfiles',\n",
       " 'Links',\n",
       " 'Local Settings',\n",
       " 'MicrosoftEdgeBackups',\n",
       " 'Music',\n",
       " 'My Documents',\n",
       " 'NetHood',\n",
       " 'newJavaFile.java',\n",
       " 'NTUSER.DAT',\n",
       " 'ntuser.dat.LOG1',\n",
       " 'ntuser.dat.LOG2',\n",
       " 'NTUSER.DAT{53b39e88-18c4-11ea-a811-000d3aa4692b}.TM.blf',\n",
       " 'NTUSER.DAT{53b39e88-18c4-11ea-a811-000d3aa4692b}.TMContainer00000000000000000001.regtrans-ms',\n",
       " 'NTUSER.DAT{53b39e88-18c4-11ea-a811-000d3aa4692b}.TMContainer00000000000000000002.regtrans-ms',\n",
       " 'ntuser.ini',\n",
       " 'OneDrive',\n",
       " 'Pictures',\n",
       " 'PrintHood',\n",
       " 'Recent',\n",
       " 'Saved Games',\n",
       " 'Searches',\n",
       " 'SendTo',\n",
       " 'source',\n",
       " 'Start Menu',\n",
       " 'Templates',\n",
       " 'Untitled.ipynb',\n",
       " 'Untitled1.ipynb',\n",
       " 'Untitled2.ipynb',\n",
       " 'venv',\n",
       " 'Videos']"
      ]
     },
     "execution_count": 4,
     "metadata": {},
     "output_type": "execute_result"
    }
   ],
   "source": [
    "os.listdir()"
   ]
  },
  {
   "cell_type": "code",
   "execution_count": 5,
   "id": "8b0bc0a1-53ee-4cf4-a2e1-e08bcade98af",
   "metadata": {},
   "outputs": [],
   "source": [
    "df = pd.read_csv(\"Dataset .csv\")"
   ]
  },
  {
   "cell_type": "code",
   "execution_count": 6,
   "id": "f5f37c7c-1262-46a4-b36e-25b07b09b13c",
   "metadata": {},
   "outputs": [
    {
     "name": "stdout",
     "output_type": "stream",
     "text": [
      "   Restaurant ID         Restaurant Name  Country Code              City  \\\n",
      "0        6317637        Le Petit Souffle           162       Makati City   \n",
      "1        6304287        Izakaya Kikufuji           162       Makati City   \n",
      "2        6300002  Heat - Edsa Shangri-La           162  Mandaluyong City   \n",
      "3        6318506                    Ooma           162  Mandaluyong City   \n",
      "4        6314302             Sambo Kojin           162  Mandaluyong City   \n",
      "\n",
      "                                             Address  \\\n",
      "0  Third Floor, Century City Mall, Kalayaan Avenu...   \n",
      "1  Little Tokyo, 2277 Chino Roces Avenue, Legaspi...   \n",
      "2  Edsa Shangri-La, 1 Garden Way, Ortigas, Mandal...   \n",
      "3  Third Floor, Mega Fashion Hall, SM Megamall, O...   \n",
      "4  Third Floor, Mega Atrium, SM Megamall, Ortigas...   \n",
      "\n",
      "                                     Locality  \\\n",
      "0   Century City Mall, Poblacion, Makati City   \n",
      "1  Little Tokyo, Legaspi Village, Makati City   \n",
      "2  Edsa Shangri-La, Ortigas, Mandaluyong City   \n",
      "3      SM Megamall, Ortigas, Mandaluyong City   \n",
      "4      SM Megamall, Ortigas, Mandaluyong City   \n",
      "\n",
      "                                    Locality Verbose   Longitude   Latitude  \\\n",
      "0  Century City Mall, Poblacion, Makati City, Mak...  121.027535  14.565443   \n",
      "1  Little Tokyo, Legaspi Village, Makati City, Ma...  121.014101  14.553708   \n",
      "2  Edsa Shangri-La, Ortigas, Mandaluyong City, Ma...  121.056831  14.581404   \n",
      "3  SM Megamall, Ortigas, Mandaluyong City, Mandal...  121.056475  14.585318   \n",
      "4  SM Megamall, Ortigas, Mandaluyong City, Mandal...  121.057508  14.584450   \n",
      "\n",
      "                           Cuisines  ...          Currency Has Table booking  \\\n",
      "0        French, Japanese, Desserts  ...  Botswana Pula(P)               Yes   \n",
      "1                          Japanese  ...  Botswana Pula(P)               Yes   \n",
      "2  Seafood, Asian, Filipino, Indian  ...  Botswana Pula(P)               Yes   \n",
      "3                   Japanese, Sushi  ...  Botswana Pula(P)                No   \n",
      "4                  Japanese, Korean  ...  Botswana Pula(P)               Yes   \n",
      "\n",
      "  Has Online delivery Is delivering now Switch to order menu Price range  \\\n",
      "0                  No                No                   No           3   \n",
      "1                  No                No                   No           3   \n",
      "2                  No                No                   No           4   \n",
      "3                  No                No                   No           4   \n",
      "4                  No                No                   No           4   \n",
      "\n",
      "   Aggregate rating  Rating color Rating text Votes  \n",
      "0               4.8    Dark Green   Excellent   314  \n",
      "1               4.5    Dark Green   Excellent   591  \n",
      "2               4.4         Green   Very Good   270  \n",
      "3               4.9    Dark Green   Excellent   365  \n",
      "4               4.8    Dark Green   Excellent   229  \n",
      "\n",
      "[5 rows x 21 columns]\n",
      "<class 'pandas.core.frame.DataFrame'>\n",
      "RangeIndex: 9551 entries, 0 to 9550\n",
      "Data columns (total 21 columns):\n",
      " #   Column                Non-Null Count  Dtype  \n",
      "---  ------                --------------  -----  \n",
      " 0   Restaurant ID         9551 non-null   int64  \n",
      " 1   Restaurant Name       9551 non-null   object \n",
      " 2   Country Code          9551 non-null   int64  \n",
      " 3   City                  9551 non-null   object \n",
      " 4   Address               9551 non-null   object \n",
      " 5   Locality              9551 non-null   object \n",
      " 6   Locality Verbose      9551 non-null   object \n",
      " 7   Longitude             9551 non-null   float64\n",
      " 8   Latitude              9551 non-null   float64\n",
      " 9   Cuisines              9542 non-null   object \n",
      " 10  Average Cost for two  9551 non-null   int64  \n",
      " 11  Currency              9551 non-null   object \n",
      " 12  Has Table booking     9551 non-null   object \n",
      " 13  Has Online delivery   9551 non-null   object \n",
      " 14  Is delivering now     9551 non-null   object \n",
      " 15  Switch to order menu  9551 non-null   object \n",
      " 16  Price range           9551 non-null   int64  \n",
      " 17  Aggregate rating      9551 non-null   float64\n",
      " 18  Rating color          9551 non-null   object \n",
      " 19  Rating text           9551 non-null   object \n",
      " 20  Votes                 9551 non-null   int64  \n",
      "dtypes: float64(3), int64(5), object(13)\n",
      "memory usage: 1.5+ MB\n",
      "None\n",
      "       Restaurant ID  Country Code    Longitude     Latitude  \\\n",
      "count   9.551000e+03   9551.000000  9551.000000  9551.000000   \n",
      "mean    9.051128e+06     18.365616    64.126574    25.854381   \n",
      "std     8.791521e+06     56.750546    41.467058    11.007935   \n",
      "min     5.300000e+01      1.000000  -157.948486   -41.330428   \n",
      "25%     3.019625e+05      1.000000    77.081343    28.478713   \n",
      "50%     6.004089e+06      1.000000    77.191964    28.570469   \n",
      "75%     1.835229e+07      1.000000    77.282006    28.642758   \n",
      "max     1.850065e+07    216.000000   174.832089    55.976980   \n",
      "\n",
      "       Average Cost for two  Price range  Aggregate rating         Votes  \n",
      "count           9551.000000  9551.000000       9551.000000   9551.000000  \n",
      "mean            1199.210763     1.804837          2.666370    156.909748  \n",
      "std            16121.183073     0.905609          1.516378    430.169145  \n",
      "min                0.000000     1.000000          0.000000      0.000000  \n",
      "25%              250.000000     1.000000          2.500000      5.000000  \n",
      "50%              400.000000     2.000000          3.200000     31.000000  \n",
      "75%              700.000000     2.000000          3.700000    131.000000  \n",
      "max           800000.000000     4.000000          4.900000  10934.000000  \n"
     ]
    }
   ],
   "source": [
    "print(df.head())\n",
    "print(df.info())\n",
    "print(df.describe())"
   ]
  },
  {
   "cell_type": "code",
   "execution_count": 7,
   "id": "2bff957d-04a4-4129-994e-c0fed57fb4f9",
   "metadata": {},
   "outputs": [],
   "source": [
    "import pandas as pd\n",
    "import numpy as np\n",
    "import matplotlib.pyplot as plt\n",
    "import seaborn as sns\n",
    "%matplotlib inline\n",
    "\n",
    "from sklearn.model_selection import train_test_split\n",
    "from sklearn.ensemble import RandomForestRegressor\n",
    "from sklearn.metrics import mean_squared_error, r2_score\n"
   ]
  },
  {
   "cell_type": "code",
   "execution_count": 8,
   "id": "17d3880e-2be6-465c-8511-9a4e53cbc530",
   "metadata": {},
   "outputs": [],
   "source": [
    "df = df.drop(['Restaurant ID', 'Address', 'Locality Verbose'], axis=1)\n",
    "df = df.dropna()\n"
   ]
  },
  {
   "cell_type": "code",
   "execution_count": 9,
   "id": "24761079-2661-4156-8ef8-03d737b11b4a",
   "metadata": {},
   "outputs": [
    {
     "name": "stdout",
     "output_type": "stream",
     "text": [
      "<class 'pandas.core.frame.DataFrame'>\n",
      "Index: 9542 entries, 0 to 9550\n",
      "Data columns (total 18 columns):\n",
      " #   Column                Non-Null Count  Dtype  \n",
      "---  ------                --------------  -----  \n",
      " 0   Restaurant Name       9542 non-null   object \n",
      " 1   Country Code          9542 non-null   int64  \n",
      " 2   City                  9542 non-null   object \n",
      " 3   Locality              9542 non-null   object \n",
      " 4   Longitude             9542 non-null   float64\n",
      " 5   Latitude              9542 non-null   float64\n",
      " 6   Cuisines              9542 non-null   object \n",
      " 7   Average Cost for two  9542 non-null   int64  \n",
      " 8   Currency              9542 non-null   object \n",
      " 9   Has Table booking     9542 non-null   object \n",
      " 10  Has Online delivery   9542 non-null   object \n",
      " 11  Is delivering now     9542 non-null   object \n",
      " 12  Switch to order menu  9542 non-null   object \n",
      " 13  Price range           9542 non-null   int64  \n",
      " 14  Aggregate rating      9542 non-null   float64\n",
      " 15  Rating color          9542 non-null   object \n",
      " 16  Rating text           9542 non-null   object \n",
      " 17  Votes                 9542 non-null   int64  \n",
      "dtypes: float64(3), int64(4), object(11)\n",
      "memory usage: 1.4+ MB\n"
     ]
    }
   ],
   "source": [
    "df.info()\n"
   ]
  },
  {
   "cell_type": "code",
   "execution_count": 10,
   "id": "da86b9cc-311a-42b6-bfcc-dde7bceea4ac",
   "metadata": {},
   "outputs": [],
   "source": [
    "from sklearn.preprocessing import LabelEncoder\n",
    "\n",
    "le = LabelEncoder()\n",
    "df['Restaurant Name'] = le.fit_transform(df['Restaurant Name'])\n",
    "df['City'] = le.fit_transform(df['City'])\n",
    "df['Locality'] = le.fit_transform(df['Locality'])\n"
   ]
  },
  {
   "cell_type": "code",
   "execution_count": 11,
   "id": "667fb6fd-fe0e-4b57-bd51-62932f03f5c6",
   "metadata": {},
   "outputs": [
    {
     "data": {
      "text/html": [
       "<div>\n",
       "<style scoped>\n",
       "    .dataframe tbody tr th:only-of-type {\n",
       "        vertical-align: middle;\n",
       "    }\n",
       "\n",
       "    .dataframe tbody tr th {\n",
       "        vertical-align: top;\n",
       "    }\n",
       "\n",
       "    .dataframe thead th {\n",
       "        text-align: right;\n",
       "    }\n",
       "</style>\n",
       "<table border=\"1\" class=\"dataframe\">\n",
       "  <thead>\n",
       "    <tr style=\"text-align: right;\">\n",
       "      <th></th>\n",
       "      <th>Restaurant Name</th>\n",
       "      <th>Country Code</th>\n",
       "      <th>City</th>\n",
       "      <th>Locality</th>\n",
       "      <th>Longitude</th>\n",
       "      <th>Latitude</th>\n",
       "      <th>Cuisines</th>\n",
       "      <th>Average Cost for two</th>\n",
       "      <th>Currency</th>\n",
       "      <th>Has Table booking</th>\n",
       "      <th>Has Online delivery</th>\n",
       "      <th>Is delivering now</th>\n",
       "      <th>Switch to order menu</th>\n",
       "      <th>Price range</th>\n",
       "      <th>Aggregate rating</th>\n",
       "      <th>Rating color</th>\n",
       "      <th>Rating text</th>\n",
       "      <th>Votes</th>\n",
       "    </tr>\n",
       "  </thead>\n",
       "  <tbody>\n",
       "    <tr>\n",
       "      <th>0</th>\n",
       "      <td>3742</td>\n",
       "      <td>162</td>\n",
       "      <td>73</td>\n",
       "      <td>171</td>\n",
       "      <td>121.027535</td>\n",
       "      <td>14.565443</td>\n",
       "      <td>French, Japanese, Desserts</td>\n",
       "      <td>1100</td>\n",
       "      <td>Botswana Pula(P)</td>\n",
       "      <td>Yes</td>\n",
       "      <td>No</td>\n",
       "      <td>No</td>\n",
       "      <td>No</td>\n",
       "      <td>3</td>\n",
       "      <td>4.8</td>\n",
       "      <td>Dark Green</td>\n",
       "      <td>Excellent</td>\n",
       "      <td>314</td>\n",
       "    </tr>\n",
       "    <tr>\n",
       "      <th>1</th>\n",
       "      <td>3167</td>\n",
       "      <td>162</td>\n",
       "      <td>73</td>\n",
       "      <td>592</td>\n",
       "      <td>121.014101</td>\n",
       "      <td>14.553708</td>\n",
       "      <td>Japanese</td>\n",
       "      <td>1200</td>\n",
       "      <td>Botswana Pula(P)</td>\n",
       "      <td>Yes</td>\n",
       "      <td>No</td>\n",
       "      <td>No</td>\n",
       "      <td>No</td>\n",
       "      <td>3</td>\n",
       "      <td>4.5</td>\n",
       "      <td>Dark Green</td>\n",
       "      <td>Excellent</td>\n",
       "      <td>591</td>\n",
       "    </tr>\n",
       "    <tr>\n",
       "      <th>2</th>\n",
       "      <td>2892</td>\n",
       "      <td>162</td>\n",
       "      <td>75</td>\n",
       "      <td>308</td>\n",
       "      <td>121.056831</td>\n",
       "      <td>14.581404</td>\n",
       "      <td>Seafood, Asian, Filipino, Indian</td>\n",
       "      <td>4000</td>\n",
       "      <td>Botswana Pula(P)</td>\n",
       "      <td>Yes</td>\n",
       "      <td>No</td>\n",
       "      <td>No</td>\n",
       "      <td>No</td>\n",
       "      <td>4</td>\n",
       "      <td>4.4</td>\n",
       "      <td>Green</td>\n",
       "      <td>Very Good</td>\n",
       "      <td>270</td>\n",
       "    </tr>\n",
       "    <tr>\n",
       "      <th>3</th>\n",
       "      <td>4700</td>\n",
       "      <td>162</td>\n",
       "      <td>75</td>\n",
       "      <td>860</td>\n",
       "      <td>121.056475</td>\n",
       "      <td>14.585318</td>\n",
       "      <td>Japanese, Sushi</td>\n",
       "      <td>1500</td>\n",
       "      <td>Botswana Pula(P)</td>\n",
       "      <td>No</td>\n",
       "      <td>No</td>\n",
       "      <td>No</td>\n",
       "      <td>No</td>\n",
       "      <td>4</td>\n",
       "      <td>4.9</td>\n",
       "      <td>Dark Green</td>\n",
       "      <td>Excellent</td>\n",
       "      <td>365</td>\n",
       "    </tr>\n",
       "    <tr>\n",
       "      <th>4</th>\n",
       "      <td>5515</td>\n",
       "      <td>162</td>\n",
       "      <td>75</td>\n",
       "      <td>860</td>\n",
       "      <td>121.057508</td>\n",
       "      <td>14.584450</td>\n",
       "      <td>Japanese, Korean</td>\n",
       "      <td>1500</td>\n",
       "      <td>Botswana Pula(P)</td>\n",
       "      <td>Yes</td>\n",
       "      <td>No</td>\n",
       "      <td>No</td>\n",
       "      <td>No</td>\n",
       "      <td>4</td>\n",
       "      <td>4.8</td>\n",
       "      <td>Dark Green</td>\n",
       "      <td>Excellent</td>\n",
       "      <td>229</td>\n",
       "    </tr>\n",
       "  </tbody>\n",
       "</table>\n",
       "</div>"
      ],
      "text/plain": [
       "   Restaurant Name  Country Code  City  Locality   Longitude   Latitude  \\\n",
       "0             3742           162    73       171  121.027535  14.565443   \n",
       "1             3167           162    73       592  121.014101  14.553708   \n",
       "2             2892           162    75       308  121.056831  14.581404   \n",
       "3             4700           162    75       860  121.056475  14.585318   \n",
       "4             5515           162    75       860  121.057508  14.584450   \n",
       "\n",
       "                           Cuisines  Average Cost for two          Currency  \\\n",
       "0        French, Japanese, Desserts                  1100  Botswana Pula(P)   \n",
       "1                          Japanese                  1200  Botswana Pula(P)   \n",
       "2  Seafood, Asian, Filipino, Indian                  4000  Botswana Pula(P)   \n",
       "3                   Japanese, Sushi                  1500  Botswana Pula(P)   \n",
       "4                  Japanese, Korean                  1500  Botswana Pula(P)   \n",
       "\n",
       "  Has Table booking Has Online delivery Is delivering now  \\\n",
       "0               Yes                  No                No   \n",
       "1               Yes                  No                No   \n",
       "2               Yes                  No                No   \n",
       "3                No                  No                No   \n",
       "4               Yes                  No                No   \n",
       "\n",
       "  Switch to order menu  Price range  Aggregate rating Rating color  \\\n",
       "0                   No            3               4.8   Dark Green   \n",
       "1                   No            3               4.5   Dark Green   \n",
       "2                   No            4               4.4        Green   \n",
       "3                   No            4               4.9   Dark Green   \n",
       "4                   No            4               4.8   Dark Green   \n",
       "\n",
       "  Rating text  Votes  \n",
       "0   Excellent    314  \n",
       "1   Excellent    591  \n",
       "2   Very Good    270  \n",
       "3   Excellent    365  \n",
       "4   Excellent    229  "
      ]
     },
     "execution_count": 11,
     "metadata": {},
     "output_type": "execute_result"
    }
   ],
   "source": [
    "df.head()\n"
   ]
  },
  {
   "cell_type": "code",
   "execution_count": 13,
   "id": "4b28df3b-69f9-490f-81c7-186655da9239",
   "metadata": {},
   "outputs": [],
   "source": [
    "X = df.drop('Aggregate rating', axis=1)\n",
    "y = df['Aggregate rating']\n"
   ]
  },
  {
   "cell_type": "code",
   "execution_count": 14,
   "id": "6824b981-0623-41a0-b1b6-a50f27a3c572",
   "metadata": {},
   "outputs": [
    {
     "name": "stdout",
     "output_type": "stream",
     "text": [
      "(9542, 17)\n",
      "(9542,)\n"
     ]
    }
   ],
   "source": [
    "print(X.shape)\n",
    "print(y.shape)\n"
   ]
  },
  {
   "cell_type": "code",
   "execution_count": 15,
   "id": "d81fef1e-96c2-4aa3-86ac-e59d1255bf4e",
   "metadata": {},
   "outputs": [
    {
     "name": "stdout",
     "output_type": "stream",
     "text": [
      "   Restaurant Name  Country Code  City  Locality   Longitude   Latitude  \\\n",
      "0             3742           162    73       171  121.027535  14.565443   \n",
      "1             3167           162    73       592  121.014101  14.553708   \n",
      "2             2892           162    75       308  121.056831  14.581404   \n",
      "3             4700           162    75       860  121.056475  14.585318   \n",
      "4             5515           162    75       860  121.057508  14.584450   \n",
      "\n",
      "                           Cuisines  Average Cost for two          Currency  \\\n",
      "0        French, Japanese, Desserts                  1100  Botswana Pula(P)   \n",
      "1                          Japanese                  1200  Botswana Pula(P)   \n",
      "2  Seafood, Asian, Filipino, Indian                  4000  Botswana Pula(P)   \n",
      "3                   Japanese, Sushi                  1500  Botswana Pula(P)   \n",
      "4                  Japanese, Korean                  1500  Botswana Pula(P)   \n",
      "\n",
      "  Has Table booking Has Online delivery Is delivering now  \\\n",
      "0               Yes                  No                No   \n",
      "1               Yes                  No                No   \n",
      "2               Yes                  No                No   \n",
      "3                No                  No                No   \n",
      "4               Yes                  No                No   \n",
      "\n",
      "  Switch to order menu  Price range Rating color Rating text  Votes  \n",
      "0                   No            3   Dark Green   Excellent    314  \n",
      "1                   No            3   Dark Green   Excellent    591  \n",
      "2                   No            4        Green   Very Good    270  \n",
      "3                   No            4   Dark Green   Excellent    365  \n",
      "4                   No            4   Dark Green   Excellent    229  \n",
      "0    4.8\n",
      "1    4.5\n",
      "2    4.4\n",
      "3    4.9\n",
      "4    4.8\n",
      "Name: Aggregate rating, dtype: float64\n"
     ]
    }
   ],
   "source": [
    "print(X.head())  # To check the features\n",
    "print(y.head())  # To check the target variable\n"
   ]
  },
  {
   "cell_type": "code",
   "execution_count": 16,
   "id": "c332c24f-e895-4891-8004-ce71072e36d0",
   "metadata": {},
   "outputs": [
    {
     "name": "stdout",
     "output_type": "stream",
     "text": [
      "Index(['Restaurant Name', 'Country Code', 'City', 'Locality', 'Longitude',\n",
      "       'Latitude', 'Cuisines', 'Average Cost for two', 'Currency',\n",
      "       'Has Table booking', 'Has Online delivery', 'Is delivering now',\n",
      "       'Switch to order menu', 'Price range', 'Rating color', 'Rating text',\n",
      "       'Votes'],\n",
      "      dtype='object')\n"
     ]
    }
   ],
   "source": [
    "print(X.columns)\n"
   ]
  },
  {
   "cell_type": "code",
   "execution_count": 17,
   "id": "3853220b-c43e-4340-8f8e-1919ecc3f5bd",
   "metadata": {},
   "outputs": [
    {
     "name": "stdout",
     "output_type": "stream",
     "text": [
      "Restaurant Name         0\n",
      "Country Code            0\n",
      "City                    0\n",
      "Locality                0\n",
      "Longitude               0\n",
      "Latitude                0\n",
      "Cuisines                0\n",
      "Average Cost for two    0\n",
      "Currency                0\n",
      "Has Table booking       0\n",
      "Has Online delivery     0\n",
      "Is delivering now       0\n",
      "Switch to order menu    0\n",
      "Price range             0\n",
      "Rating color            0\n",
      "Rating text             0\n",
      "Votes                   0\n",
      "dtype: int64\n",
      "0\n"
     ]
    }
   ],
   "source": [
    "print(X.isnull().sum())  # Check missing values in features\n",
    "print(y.isnull().sum())  # Check missing values in target variable\n"
   ]
  },
  {
   "cell_type": "code",
   "execution_count": 18,
   "id": "7197a000-520d-43ce-adae-1d48ba337b45",
   "metadata": {},
   "outputs": [],
   "source": [
    "from sklearn.model_selection import train_test_split\n",
    "\n",
    "X_train, X_test, y_train, y_test = train_test_split(\n",
    "    X, y, test_size=0.2, random_state=42\n",
    ")\n"
   ]
  },
  {
   "cell_type": "code",
   "execution_count": 19,
   "id": "91b4519e-93b8-4bff-acf1-fd47dd34a7e7",
   "metadata": {},
   "outputs": [
    {
     "name": "stdout",
     "output_type": "stream",
     "text": [
      "(7633, 17) (1909, 17)\n",
      "(7633,) (1909,)\n"
     ]
    }
   ],
   "source": [
    "print(X_train.shape, X_test.shape)\n",
    "print(y_train.shape, y_test.shape)\n"
   ]
  },
  {
   "cell_type": "code",
   "execution_count": 20,
   "id": "7d817cee-4878-4d2b-b44b-420c031db2a6",
   "metadata": {},
   "outputs": [
    {
     "name": "stdout",
     "output_type": "stream",
     "text": [
      "      Restaurant Name  Country Code  City  Locality  Longitude   Latitude  \\\n",
      "8177             7106             1    88       597  77.353663  28.574219   \n",
      "6401             2096             1    87       812  77.134360  28.671141   \n",
      "81               5490            30   120      1152 -46.746958 -23.609207   \n",
      "1332             5667             1    50       252  77.086080  28.482318   \n",
      "9041             6098             1    88      1012  77.339801  28.586405   \n",
      "\n",
      "                                      Cuisines  Average Cost for two  \\\n",
      "8177                              South Indian                   450   \n",
      "6401                          Pizza, Fast Food                   700   \n",
      "81                           Lebanese, Arabian                   120   \n",
      "1332                                   Mughlai                   300   \n",
      "9041  American, Fast Food, Salad, Healthy Food                   500   \n",
      "\n",
      "                Currency Has Table booking Has Online delivery  \\\n",
      "8177  Indian Rupees(Rs.)                No                  No   \n",
      "6401  Indian Rupees(Rs.)                No                  No   \n",
      "81    Brazilian Real(R$)                No                  No   \n",
      "1332  Indian Rupees(Rs.)                No                  No   \n",
      "9041  Indian Rupees(Rs.)                No                 Yes   \n",
      "\n",
      "     Is delivering now Switch to order menu  Price range Rating color  \\\n",
      "8177                No                   No            1       Orange   \n",
      "6401                No                   No            2       Orange   \n",
      "81                  No                   No            4        Green   \n",
      "1332                No                   No            1        White   \n",
      "9041                No                   No            2       Orange   \n",
      "\n",
      "     Rating text  Votes  \n",
      "8177     Average      6  \n",
      "6401     Average    112  \n",
      "81     Very Good     11  \n",
      "1332   Not rated      0  \n",
      "9041     Average     93  \n",
      "      Restaurant Name  Country Code  City  Locality  Longitude   Latitude  \\\n",
      "7142             1380             1    87       969   0.000000   0.000000   \n",
      "1860             2086             1    50       916  77.064227  28.467934   \n",
      "4425             5070             1    87       508  77.250660  28.543755   \n",
      "3219               37             1    87       274  77.230277  28.572796   \n",
      "8308             3038             1    88       897  77.331711  28.548867   \n",
      "\n",
      "                  Cuisines  Average Cost for two            Currency  \\\n",
      "7142  Chinese, Street Food                   150  Indian Rupees(Rs.)   \n",
      "1860        Asian, Seafood                  1500  Indian Rupees(Rs.)   \n",
      "4425          North Indian                   250  Indian Rupees(Rs.)   \n",
      "3219               Italian                  1500  Indian Rupees(Rs.)   \n",
      "8308    Chinese, Fast Food                   200  Indian Rupees(Rs.)   \n",
      "\n",
      "     Has Table booking Has Online delivery Is delivering now  \\\n",
      "7142                No                  No                No   \n",
      "1860                No                  No                No   \n",
      "4425                No                 Yes                No   \n",
      "3219               Yes                 Yes                No   \n",
      "8308                No                  No                No   \n",
      "\n",
      "     Switch to order menu  Price range Rating color Rating text  Votes  \n",
      "7142                   No            1        White   Not rated      2  \n",
      "1860                   No            3        Green   Very Good    105  \n",
      "4425                   No            1       Orange     Average     55  \n",
      "3219                   No            3       Yellow        Good    245  \n",
      "8308                   No            1        White   Not rated      0  \n",
      "8177    2.8\n",
      "6401    3.2\n",
      "81      4.1\n",
      "1332    0.0\n",
      "9041    3.4\n",
      "Name: Aggregate rating, dtype: float64\n",
      "7142    0.0\n",
      "1860    4.1\n",
      "4425    3.3\n",
      "3219    3.9\n",
      "8308    0.0\n",
      "Name: Aggregate rating, dtype: float64\n"
     ]
    }
   ],
   "source": [
    "print(X_train.head())  # Preview the training features\n",
    "print(X_test.head())   # Preview the test features\n",
    "print(y_train.head())  # Preview the training target variable\n",
    "print(y_test.head())   # Preview the test target variable\n"
   ]
  },
  {
   "cell_type": "code",
   "execution_count": 21,
   "id": "4205a355-1480-4f81-8b6e-5d96408d4399",
   "metadata": {},
   "outputs": [
    {
     "name": "stdout",
     "output_type": "stream",
     "text": [
      "Restaurant Name         0\n",
      "Country Code            0\n",
      "City                    0\n",
      "Locality                0\n",
      "Longitude               0\n",
      "Latitude                0\n",
      "Cuisines                0\n",
      "Average Cost for two    0\n",
      "Currency                0\n",
      "Has Table booking       0\n",
      "Has Online delivery     0\n",
      "Is delivering now       0\n",
      "Switch to order menu    0\n",
      "Price range             0\n",
      "Rating color            0\n",
      "Rating text             0\n",
      "Votes                   0\n",
      "dtype: int64\n",
      "Restaurant Name         0\n",
      "Country Code            0\n",
      "City                    0\n",
      "Locality                0\n",
      "Longitude               0\n",
      "Latitude                0\n",
      "Cuisines                0\n",
      "Average Cost for two    0\n",
      "Currency                0\n",
      "Has Table booking       0\n",
      "Has Online delivery     0\n",
      "Is delivering now       0\n",
      "Switch to order menu    0\n",
      "Price range             0\n",
      "Rating color            0\n",
      "Rating text             0\n",
      "Votes                   0\n",
      "dtype: int64\n",
      "0\n",
      "0\n"
     ]
    }
   ],
   "source": [
    "print(X_train.isnull().sum())  # Check missing values in training features\n",
    "print(X_test.isnull().sum())   # Check missing values in test features\n",
    "print(y_train.isnull().sum())  # Check missing values in training target\n",
    "print(y_test.isnull().sum())   # Check missing values in test target\n"
   ]
  },
  {
   "cell_type": "code",
   "execution_count": 23,
   "id": "fe75507a-237d-47eb-881f-890221847199",
   "metadata": {},
   "outputs": [
    {
     "name": "stdout",
     "output_type": "stream",
     "text": [
      "Restaurant Name           int32\n",
      "Country Code              int64\n",
      "City                      int32\n",
      "Locality                  int32\n",
      "Longitude               float64\n",
      "Latitude                float64\n",
      "Cuisines                 object\n",
      "Average Cost for two      int64\n",
      "Currency                 object\n",
      "Has Table booking        object\n",
      "Has Online delivery      object\n",
      "Is delivering now        object\n",
      "Switch to order menu     object\n",
      "Price range               int64\n",
      "Rating color             object\n",
      "Rating text              object\n",
      "Votes                     int64\n",
      "dtype: object\n",
      "Restaurant Name           int32\n",
      "Country Code              int64\n",
      "City                      int32\n",
      "Locality                  int32\n",
      "Longitude               float64\n",
      "Latitude                float64\n",
      "Cuisines                 object\n",
      "Average Cost for two      int64\n",
      "Currency                 object\n",
      "Has Table booking        object\n",
      "Has Online delivery      object\n",
      "Is delivering now        object\n",
      "Switch to order menu     object\n",
      "Price range               int64\n",
      "Rating color             object\n",
      "Rating text              object\n",
      "Votes                     int64\n",
      "dtype: object\n"
     ]
    }
   ],
   "source": [
    "print(X_train.dtypes)  # Check the data types of columns in the training set\n",
    "print(X_test.dtypes)   # Check the data types of columns in the testing set\n"
   ]
  },
  {
   "cell_type": "code",
   "execution_count": 25,
   "id": "e24f4494-eb81-4455-8093-ae5ebef93de1",
   "metadata": {},
   "outputs": [
    {
     "name": "stdout",
     "output_type": "stream",
     "text": [
      "Index(['Restaurant Name', 'Country Code', 'City', 'Locality', 'Longitude',\n",
      "       'Latitude', 'Cuisines', 'Average Cost for two', 'Currency',\n",
      "       'Has Table booking', 'Has Online delivery', 'Is delivering now',\n",
      "       'Switch to order menu', 'Price range', 'Rating color', 'Rating text',\n",
      "       'Votes'],\n",
      "      dtype='object')\n",
      "Index(['Restaurant Name', 'Country Code', 'City', 'Locality', 'Longitude',\n",
      "       'Latitude', 'Cuisines', 'Average Cost for two', 'Currency',\n",
      "       'Has Table booking', 'Has Online delivery', 'Is delivering now',\n",
      "       'Switch to order menu', 'Price range', 'Rating color', 'Rating text',\n",
      "       'Votes'],\n",
      "      dtype='object')\n"
     ]
    }
   ],
   "source": [
    "print(X_train.columns)  # Check the column names in X_train\n",
    "print(X_test.columns)   # Check the column names in X_test\n"
   ]
  },
  {
   "cell_type": "code",
   "execution_count": 26,
   "id": "fbebb18e-8f69-4bc6-b350-f0fc8d0a8e19",
   "metadata": {},
   "outputs": [],
   "source": [
    "X_train, X_test = X_train.align(X_test, join='left', axis=1, fill_value=0)\n"
   ]
  },
  {
   "cell_type": "code",
   "execution_count": 28,
   "id": "3b3a26ad-fb9c-4440-82c4-0858159f78d5",
   "metadata": {},
   "outputs": [],
   "source": [
    "label_encoder = LabelEncoder()\n",
    "all_data = pd.concat([X_train['Restaurant Name'], X_test['Restaurant Name']])  # Combine train and test data\n",
    "label_encoder.fit(all_data)  # Fit on both train and test data\n",
    "\n",
    "X_train['Restaurant Name'] = label_encoder.transform(X_train['Restaurant Name'])\n",
    "X_test['Restaurant Name'] = label_encoder.transform(X_test['Restaurant Name'])\n"
   ]
  },
  {
   "cell_type": "code",
   "execution_count": 29,
   "id": "dadb7e35-f8be-4855-aca5-73ecb11fbcc3",
   "metadata": {},
   "outputs": [
    {
     "name": "stdout",
     "output_type": "stream",
     "text": [
      "      Restaurant Name  Country Code  City  Locality  Longitude   Latitude  \\\n",
      "8177             7106             1    85       597  77.353663  28.574219   \n",
      "6401             2096             1    84       812  77.134360  28.671141   \n",
      "81               5490            30   114      1152 -46.746958 -23.609207   \n",
      "1332             5667             1    49       252  77.086080  28.482318   \n",
      "9041             6098             1    85      1012  77.339801  28.586405   \n",
      "\n",
      "                                      Cuisines  Average Cost for two  \\\n",
      "8177                              South Indian                   450   \n",
      "6401                          Pizza, Fast Food                   700   \n",
      "81                           Lebanese, Arabian                   120   \n",
      "1332                                   Mughlai                   300   \n",
      "9041  American, Fast Food, Salad, Healthy Food                   500   \n",
      "\n",
      "                Currency Has Table booking Has Online delivery  \\\n",
      "8177  Indian Rupees(Rs.)                No                  No   \n",
      "6401  Indian Rupees(Rs.)                No                  No   \n",
      "81    Brazilian Real(R$)                No                  No   \n",
      "1332  Indian Rupees(Rs.)                No                  No   \n",
      "9041  Indian Rupees(Rs.)                No                 Yes   \n",
      "\n",
      "     Is delivering now Switch to order menu  Price range Rating color  \\\n",
      "8177                No                   No            1       Orange   \n",
      "6401                No                   No            2       Orange   \n",
      "81                  No                   No            4        Green   \n",
      "1332                No                   No            1        White   \n",
      "9041                No                   No            2       Orange   \n",
      "\n",
      "     Rating text  Votes  \n",
      "8177     Average      6  \n",
      "6401     Average    112  \n",
      "81     Very Good     11  \n",
      "1332   Not rated      0  \n",
      "9041     Average     93  \n",
      "      Restaurant Name  Country Code  City  Locality  Longitude   Latitude  \\\n",
      "7142             1380             1    87       969   0.000000   0.000000   \n",
      "1860             2086             1    50       916  77.064227  28.467934   \n",
      "4425             5070             1    87       508  77.250660  28.543755   \n",
      "3219               37             1    87       274  77.230277  28.572796   \n",
      "8308             3038             1    88       897  77.331711  28.548867   \n",
      "\n",
      "                  Cuisines  Average Cost for two            Currency  \\\n",
      "7142  Chinese, Street Food                   150  Indian Rupees(Rs.)   \n",
      "1860        Asian, Seafood                  1500  Indian Rupees(Rs.)   \n",
      "4425          North Indian                   250  Indian Rupees(Rs.)   \n",
      "3219               Italian                  1500  Indian Rupees(Rs.)   \n",
      "8308    Chinese, Fast Food                   200  Indian Rupees(Rs.)   \n",
      "\n",
      "     Has Table booking Has Online delivery Is delivering now  \\\n",
      "7142                No                  No                No   \n",
      "1860                No                  No                No   \n",
      "4425                No                 Yes                No   \n",
      "3219               Yes                 Yes                No   \n",
      "8308                No                  No                No   \n",
      "\n",
      "     Switch to order menu  Price range Rating color Rating text  Votes  \n",
      "7142                   No            1        White   Not rated      2  \n",
      "1860                   No            3        Green   Very Good    105  \n",
      "4425                   No            1       Orange     Average     55  \n",
      "3219                   No            3       Yellow        Good    245  \n",
      "8308                   No            1        White   Not rated      0  \n"
     ]
    }
   ],
   "source": [
    "print(X_train.head())  # Preview the first few rows of X_train\n",
    "print(X_test.head())   # Preview the first few rows of X_test\n"
   ]
  },
  {
   "cell_type": "code",
   "execution_count": 30,
   "id": "7246572f-f907-47d0-831b-4184059e6275",
   "metadata": {},
   "outputs": [
    {
     "name": "stdout",
     "output_type": "stream",
     "text": [
      "8177    7106\n",
      "6401    2096\n",
      "81      5490\n",
      "1332    5667\n",
      "9041    6098\n",
      "Name: Restaurant Name, dtype: int64\n",
      "7142    1380\n",
      "1860    2086\n",
      "4425    5070\n",
      "3219      37\n",
      "8308    3038\n",
      "Name: Restaurant Name, dtype: int64\n"
     ]
    }
   ],
   "source": [
    "print(X_train['Restaurant Name'].head())  \n",
    "print(X_test['Restaurant Name'].head())   \n"
   ]
  },
  {
   "cell_type": "code",
   "execution_count": 32,
   "id": "51f4b446-b809-4650-874e-2a81da7ffda8",
   "metadata": {},
   "outputs": [
    {
     "name": "stdout",
     "output_type": "stream",
     "text": [
      "[7106 2096 5490 ... 6288 5226 2103]\n",
      "[1380 2086 5070 ... 1613 7143 5355]\n"
     ]
    }
   ],
   "source": [
    "print(X_train['Restaurant Name'].unique())  # Check unique values in the 'Restaurant Name' column of X_train\n",
    "print(X_test['Restaurant Name'].unique())   # Check unique values in the 'Restaurant Name' column of X_test\n"
   ]
  },
  {
   "cell_type": "code",
   "execution_count": 33,
   "id": "2f88e7c1-50cf-4800-98a5-f12416507831",
   "metadata": {},
   "outputs": [
    {
     "name": "stdout",
     "output_type": "stream",
     "text": [
      "Restaurant Name         0\n",
      "Country Code            0\n",
      "City                    0\n",
      "Locality                0\n",
      "Longitude               0\n",
      "Latitude                0\n",
      "Cuisines                0\n",
      "Average Cost for two    0\n",
      "Currency                0\n",
      "Has Table booking       0\n",
      "Has Online delivery     0\n",
      "Is delivering now       0\n",
      "Switch to order menu    0\n",
      "Price range             0\n",
      "Rating color            0\n",
      "Rating text             0\n",
      "Votes                   0\n",
      "dtype: int64\n",
      "Restaurant Name         0\n",
      "Country Code            0\n",
      "City                    0\n",
      "Locality                0\n",
      "Longitude               0\n",
      "Latitude                0\n",
      "Cuisines                0\n",
      "Average Cost for two    0\n",
      "Currency                0\n",
      "Has Table booking       0\n",
      "Has Online delivery     0\n",
      "Is delivering now       0\n",
      "Switch to order menu    0\n",
      "Price range             0\n",
      "Rating color            0\n",
      "Rating text             0\n",
      "Votes                   0\n",
      "dtype: int64\n"
     ]
    }
   ],
   "source": [
    "print(X_train.isnull().sum())  # Check for missing values in X_train\n",
    "print(X_test.isnull().sum())   # Check for missing values in X_test\n"
   ]
  },
  {
   "cell_type": "code",
   "execution_count": 35,
   "id": "1e823775-4b5c-416b-a889-9eb83c9467c5",
   "metadata": {},
   "outputs": [
    {
     "name": "stdout",
     "output_type": "stream",
     "text": [
      "Restaurant Name           int64\n",
      "Country Code              int64\n",
      "City                      int64\n",
      "Locality                  int32\n",
      "Longitude               float64\n",
      "Latitude                float64\n",
      "Cuisines                 object\n",
      "Average Cost for two      int64\n",
      "Currency                 object\n",
      "Has Table booking        object\n",
      "Has Online delivery      object\n",
      "Is delivering now        object\n",
      "Switch to order menu     object\n",
      "Price range               int64\n",
      "Rating color             object\n",
      "Rating text              object\n",
      "Votes                     int64\n",
      "dtype: object\n",
      "Restaurant Name           int64\n",
      "Country Code              int64\n",
      "City                      int32\n",
      "Locality                  int32\n",
      "Longitude               float64\n",
      "Latitude                float64\n",
      "Cuisines                 object\n",
      "Average Cost for two      int64\n",
      "Currency                 object\n",
      "Has Table booking        object\n",
      "Has Online delivery      object\n",
      "Is delivering now        object\n",
      "Switch to order menu     object\n",
      "Price range               int64\n",
      "Rating color             object\n",
      "Rating text              object\n",
      "Votes                     int64\n",
      "dtype: object\n"
     ]
    }
   ],
   "source": [
    "print(X_train.dtypes)  # Check the data types of columns in X_train\n",
    "print(X_test.dtypes)   # Check the data types of columns in X_test\n"
   ]
  },
  {
   "cell_type": "code",
   "execution_count": 37,
   "id": "ab5f5355-52ce-40b7-85e0-27610ba3d34e",
   "metadata": {},
   "outputs": [],
   "source": [
    "from sklearn.preprocessing import LabelEncoder\n",
    "\n",
    "label_encoder = LabelEncoder()\n",
    "\n",
    "# Apply label encoding to all categorical columns in both X_train and X_test\n",
    "categorical_columns = X_train.select_dtypes(include=['object']).columns  # Find categorical columns\n",
    "for col in categorical_columns:\n",
    "    X_train[col] = label_encoder.fit_transform(X_train[col])\n",
    "    X_test[col] = label_encoder.transform(X_test[col])\n"
   ]
  },
  {
   "cell_type": "code",
   "execution_count": 38,
   "id": "8aae4c76-2692-4096-9683-572d75f454c8",
   "metadata": {},
   "outputs": [],
   "source": [
    "label_encoder = LabelEncoder()\n",
    "\n",
    "categorical_columns = X_train.select_dtypes(include=['object']).columns\n",
    "for col in categorical_columns:\n",
    "    # Fit the encoder on the training set\n",
    "    label_encoder.fit(X_train[col])\n",
    "\n",
    "    # Apply encoding to X_train and X_test\n",
    "    X_train[col] = label_encoder.transform(X_train[col])\n",
    "\n",
    "    # For X_test, check for unseen labels and replace them with a placeholder value\n",
    "    unseen_labels = set(X_test[col]) - set(X_train[col])\n",
    "    X_test[col] = X_test[col].replace(list(unseen_labels), -1)  # Replace with a placeholder value\n",
    "    X_test[col] = label_encoder.transform(X_test[col])  # Apply the encoding to X_test\n"
   ]
  },
  {
   "cell_type": "code",
   "execution_count": 39,
   "id": "eb4a8326-b231-4d8f-a085-dd5845257f68",
   "metadata": {},
   "outputs": [],
   "source": [
    "combined_data = pd.concat([X_train, X_test], ignore_index=True)\n",
    "label_encoder = LabelEncoder()\n",
    "\n",
    "categorical_columns = X_train.select_dtypes(include=['object']).columns\n",
    "for col in categorical_columns:\n",
    "    label_encoder.fit(combined_data[col])  # Fit on both train and test data\n",
    "    X_train[col] = label_encoder.transform(X_train[col])\n",
    "    X_test[col] = label_encoder.transform(X_test[col])\n"
   ]
  },
  {
   "cell_type": "code",
   "execution_count": 41,
   "id": "ca5fb19a-7c1d-4eb2-aa09-59a383410461",
   "metadata": {},
   "outputs": [
    {
     "name": "stdout",
     "output_type": "stream",
     "text": [
      "Categorical Columns:\n",
      " Index(['Cuisines', 'Currency', 'Has Table booking', 'Has Online delivery',\n",
      "       'Is delivering now', 'Switch to order menu', 'Rating color',\n",
      "       'Rating text'],\n",
      "      dtype='object')\n"
     ]
    }
   ],
   "source": [
    "categorical_columns = X.select_dtypes(include=['object']).columns\n",
    "print(\"Categorical Columns:\\n\", categorical_columns)\n"
   ]
  },
  {
   "cell_type": "code",
   "execution_count": 42,
   "id": "d9a7590c-de46-4ea0-b66a-e641909855ec",
   "metadata": {},
   "outputs": [],
   "source": [
    "from sklearn.preprocessing import OrdinalEncoder\n",
    "\n",
    "# Identify all object (string) columns\n",
    "categorical_cols = X_train.select_dtypes(include=['object']).columns\n",
    "\n",
    "# Initialize encoder that handles unseen labels\n",
    "encoder = OrdinalEncoder(handle_unknown='use_encoded_value', unknown_value=-1)\n",
    "\n",
    "# Fit on training data and transform both train and test\n",
    "X_train[categorical_cols] = encoder.fit_transform(X_train[categorical_cols])\n",
    "X_test[categorical_cols] = encoder.transform(X_test[categorical_cols])\n"
   ]
  },
  {
   "cell_type": "code",
   "execution_count": 44,
   "id": "9fe3e7f1-b268-498d-8cb0-c65d7be0f369",
   "metadata": {},
   "outputs": [],
   "source": [
    "Cuisines = 'Chinese, Street Food'\n"
   ]
  },
  {
   "cell_type": "code",
   "execution_count": 45,
   "id": "8b64bb7e-5c7a-4ecb-a289-63aa3d861ce1",
   "metadata": {},
   "outputs": [],
   "source": [
    "categorical_cols = X_train.select_dtypes(include=['object']).columns\n"
   ]
  },
  {
   "cell_type": "code",
   "execution_count": 46,
   "id": "59e19725-2558-49bb-a780-1a47d9f17e66",
   "metadata": {},
   "outputs": [
    {
     "name": "stdout",
     "output_type": "stream",
     "text": [
      "Index([], dtype='object')\n"
     ]
    }
   ],
   "source": [
    "print(categorical_cols)\n"
   ]
  },
  {
   "cell_type": "code",
   "execution_count": 47,
   "id": "5fc338d3-e502-4300-8485-741b5a84f50d",
   "metadata": {},
   "outputs": [
    {
     "name": "stdout",
     "output_type": "stream",
     "text": [
      "Categorical columns in your dataset:\n",
      "Index([], dtype='object')\n"
     ]
    }
   ],
   "source": [
    "categorical_cols = X_train.select_dtypes(include=['object']).columns\n",
    "print(\"Categorical columns in your dataset:\")\n",
    "print(categorical_cols)\n"
   ]
  },
  {
   "cell_type": "code",
   "execution_count": 49,
   "id": "6b5fd901-95be-433e-a92f-32bb8c2feaed",
   "metadata": {},
   "outputs": [],
   "source": [
    "from sklearn.preprocessing import OrdinalEncoder\n",
    "\n",
    "categorical_cols = X.select_dtypes(include=[\"object\"]).columns\n",
    "encoder = OrdinalEncoder(handle_unknown=\"use_encoded_value\", unknown_value=-1)\n",
    "X[categorical_cols] = encoder.fit_transform(X[categorical_cols])\n"
   ]
  },
  {
   "cell_type": "code",
   "execution_count": 50,
   "id": "e233e19b-f37a-407f-b690-7c4b64555439",
   "metadata": {},
   "outputs": [],
   "source": [
    "from sklearn.model_selection import train_test_split\n",
    "\n",
    "X_train, X_test, y_train, y_test = train_test_split(\n",
    "    X, y, test_size=0.2, random_state=42\n",
    ")\n"
   ]
  },
  {
   "cell_type": "code",
   "execution_count": 51,
   "id": "d1fe81ae-d543-4160-9503-5a1971eef815",
   "metadata": {},
   "outputs": [
    {
     "data": {
      "text/html": [
       "<style>#sk-container-id-1 {color: black;background-color: white;}#sk-container-id-1 pre{padding: 0;}#sk-container-id-1 div.sk-toggleable {background-color: white;}#sk-container-id-1 label.sk-toggleable__label {cursor: pointer;display: block;width: 100%;margin-bottom: 0;padding: 0.3em;box-sizing: border-box;text-align: center;}#sk-container-id-1 label.sk-toggleable__label-arrow:before {content: \"▸\";float: left;margin-right: 0.25em;color: #696969;}#sk-container-id-1 label.sk-toggleable__label-arrow:hover:before {color: black;}#sk-container-id-1 div.sk-estimator:hover label.sk-toggleable__label-arrow:before {color: black;}#sk-container-id-1 div.sk-toggleable__content {max-height: 0;max-width: 0;overflow: hidden;text-align: left;background-color: #f0f8ff;}#sk-container-id-1 div.sk-toggleable__content pre {margin: 0.2em;color: black;border-radius: 0.25em;background-color: #f0f8ff;}#sk-container-id-1 input.sk-toggleable__control:checked~div.sk-toggleable__content {max-height: 200px;max-width: 100%;overflow: auto;}#sk-container-id-1 input.sk-toggleable__control:checked~label.sk-toggleable__label-arrow:before {content: \"▾\";}#sk-container-id-1 div.sk-estimator input.sk-toggleable__control:checked~label.sk-toggleable__label {background-color: #d4ebff;}#sk-container-id-1 div.sk-label input.sk-toggleable__control:checked~label.sk-toggleable__label {background-color: #d4ebff;}#sk-container-id-1 input.sk-hidden--visually {border: 0;clip: rect(1px 1px 1px 1px);clip: rect(1px, 1px, 1px, 1px);height: 1px;margin: -1px;overflow: hidden;padding: 0;position: absolute;width: 1px;}#sk-container-id-1 div.sk-estimator {font-family: monospace;background-color: #f0f8ff;border: 1px dotted black;border-radius: 0.25em;box-sizing: border-box;margin-bottom: 0.5em;}#sk-container-id-1 div.sk-estimator:hover {background-color: #d4ebff;}#sk-container-id-1 div.sk-parallel-item::after {content: \"\";width: 100%;border-bottom: 1px solid gray;flex-grow: 1;}#sk-container-id-1 div.sk-label:hover label.sk-toggleable__label {background-color: #d4ebff;}#sk-container-id-1 div.sk-serial::before {content: \"\";position: absolute;border-left: 1px solid gray;box-sizing: border-box;top: 0;bottom: 0;left: 50%;z-index: 0;}#sk-container-id-1 div.sk-serial {display: flex;flex-direction: column;align-items: center;background-color: white;padding-right: 0.2em;padding-left: 0.2em;position: relative;}#sk-container-id-1 div.sk-item {position: relative;z-index: 1;}#sk-container-id-1 div.sk-parallel {display: flex;align-items: stretch;justify-content: center;background-color: white;position: relative;}#sk-container-id-1 div.sk-item::before, #sk-container-id-1 div.sk-parallel-item::before {content: \"\";position: absolute;border-left: 1px solid gray;box-sizing: border-box;top: 0;bottom: 0;left: 50%;z-index: -1;}#sk-container-id-1 div.sk-parallel-item {display: flex;flex-direction: column;z-index: 1;position: relative;background-color: white;}#sk-container-id-1 div.sk-parallel-item:first-child::after {align-self: flex-end;width: 50%;}#sk-container-id-1 div.sk-parallel-item:last-child::after {align-self: flex-start;width: 50%;}#sk-container-id-1 div.sk-parallel-item:only-child::after {width: 0;}#sk-container-id-1 div.sk-dashed-wrapped {border: 1px dashed gray;margin: 0 0.4em 0.5em 0.4em;box-sizing: border-box;padding-bottom: 0.4em;background-color: white;}#sk-container-id-1 div.sk-label label {font-family: monospace;font-weight: bold;display: inline-block;line-height: 1.2em;}#sk-container-id-1 div.sk-label-container {text-align: center;}#sk-container-id-1 div.sk-container {/* jupyter's `normalize.less` sets `[hidden] { display: none; }` but bootstrap.min.css set `[hidden] { display: none !important; }` so we also need the `!important` here to be able to override the default hidden behavior on the sphinx rendered scikit-learn.org. See: https://github.com/scikit-learn/scikit-learn/issues/21755 */display: inline-block !important;position: relative;}#sk-container-id-1 div.sk-text-repr-fallback {display: none;}</style><div id=\"sk-container-id-1\" class=\"sk-top-container\"><div class=\"sk-text-repr-fallback\"><pre>RandomForestRegressor(random_state=42)</pre><b>In a Jupyter environment, please rerun this cell to show the HTML representation or trust the notebook. <br />On GitHub, the HTML representation is unable to render, please try loading this page with nbviewer.org.</b></div><div class=\"sk-container\" hidden><div class=\"sk-item\"><div class=\"sk-estimator sk-toggleable\"><input class=\"sk-toggleable__control sk-hidden--visually\" id=\"sk-estimator-id-1\" type=\"checkbox\" checked><label for=\"sk-estimator-id-1\" class=\"sk-toggleable__label sk-toggleable__label-arrow\">RandomForestRegressor</label><div class=\"sk-toggleable__content\"><pre>RandomForestRegressor(random_state=42)</pre></div></div></div></div></div>"
      ],
      "text/plain": [
       "RandomForestRegressor(random_state=42)"
      ]
     },
     "execution_count": 51,
     "metadata": {},
     "output_type": "execute_result"
    }
   ],
   "source": [
    "from sklearn.ensemble import RandomForestRegressor\n",
    "\n",
    "model = RandomForestRegressor(random_state=42)\n",
    "model.fit(X_train, y_train)\n"
   ]
  },
  {
   "cell_type": "code",
   "execution_count": 52,
   "id": "b5b55664-9cd6-4a2b-9700-ce476de62767",
   "metadata": {},
   "outputs": [
    {
     "name": "stdout",
     "output_type": "stream",
     "text": [
      "Mean Squared Error: 0.029120443687794668\n",
      "R-squared Score: 0.9872838278547753\n"
     ]
    }
   ],
   "source": [
    "from sklearn.metrics import mean_squared_error, r2_score\n",
    "\n",
    "y_pred = model.predict(X_test)\n",
    "mse = mean_squared_error(y_test, y_pred)\n",
    "r2 = r2_score(y_test, y_pred)\n",
    "\n",
    "print(\"Mean Squared Error:\", mse)\n",
    "print(\"R-squared Score:\", r2)\n"
   ]
  },
  {
   "cell_type": "code",
   "execution_count": 53,
   "id": "6c5d9dc0-7aae-4b11-9180-1a55747cc273",
   "metadata": {},
   "outputs": [
    {
     "data": {
      "image/png": "[encoded data removed]",
      "text/plain": [
       "<Figure size 800x500 with 1 Axes>"
      ]
     },
     "metadata": {},
     "output_type": "display_data"
    }
   ],
   "source": [
    "import matplotlib.pyplot as plt\n",
    "\n",
    "plt.figure(figsize=(8, 5))\n",
    "plt.scatter(y_test, y_pred, alpha=0.6, color='blue')\n",
    "plt.xlabel(\"Actual Ratings\")\n",
    "plt.ylabel(\"Predicted Ratings\")\n",
    "plt.title(\"Actual vs Predicted Ratings\")\n",
    "plt.plot([y_test.min(), y_test.max()], [y_test.min(), y_test.max()], 'r--')  # diagonal line\n",
    "plt.show()\n"
   ]
  },
  {
   "cell_type": "code",
   "execution_count": 54,
   "id": "fcb93c02-91a7-4509-abf2-d6c3ace496e9",
   "metadata": {},
   "outputs": [
    {
     "name": "stdout",
     "output_type": "stream",
     "text": [
      "Feature Importance:\n",
      "Votes: 0.9000\n",
      "Rating color: 0.0837\n",
      "Rating text: 0.0052\n",
      "Latitude: 0.0021\n",
      "Longitude: 0.0020\n",
      "Restaurant Name: 0.0019\n",
      "Cuisines: 0.0017\n",
      "Locality: 0.0014\n",
      "Average Cost for two: 0.0011\n",
      "Has Online delivery: 0.0003\n",
      "City: 0.0002\n",
      "Price range: 0.0002\n",
      "Has Table booking: 0.0001\n",
      "Currency: 0.0000\n",
      "Is delivering now: 0.0000\n",
      "Country Code: 0.0000\n",
      "Switch to order menu: 0.0000\n"
     ]
    }
   ],
   "source": [
    "import numpy as np\n",
    "\n",
    "importances = model.feature_importances_\n",
    "feature_names = X.columns\n",
    "\n",
    "# Sort features by importance\n",
    "sorted_indices = np.argsort(importances)[::-1]\n",
    "\n",
    "print(\"Feature Importance:\")\n",
    "for i in sorted_indices:\n",
    "    print(f\"{feature_names[i]}: {importances[i]:.4f}\")\n"
   ]
  },
  {
   "cell_type": "code",
   "execution_count": null,
   "id": "963b654a-8a24-49d8-80ed-8fb7824330a6",
   "metadata": {},
   "outputs": [],
   "source": []
  }
 ],
 "metadata": {
  "kernelspec": {
   "display_name": "Python 3 (ipykernel)",
   "language": "python",
   "name": "python3"
  },
  "language_info": {
   "codemirror_mode": {
    "name": "ipython",
    "version": 3
   },
   "file_extension": ".py",
   "mimetype": "text/x-python",
   "name": "python",
   "nbconvert_exporter": "python",
   "pygments_lexer": "ipython3",
   "version": "3.8.2"
  }
 },
 "nbformat": 4,
 "nbformat_minor": 5
}
